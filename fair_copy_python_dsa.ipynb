{
  "cells": [
    {
      "cell_type": "markdown",
      "metadata": {
        "id": "view-in-github",
        "colab_type": "text"
      },
      "source": [
        "<a href=\"https://colab.research.google.com/github/Ashu202023/Ashu202023/blob/main/fair_copy_python_dsa.ipynb\" target=\"_parent\"><img src=\"https://colab.research.google.com/assets/colab-badge.svg\" alt=\"Open In Colab\"/></a>"
      ]
    },
    {
      "cell_type": "code",
      "source": [
        "price=24\n",
        "item=\"banana\""
      ],
      "metadata": {
        "id": "g4ureCVxi90j"
      },
      "execution_count": null,
      "outputs": []
    },
    {
      "cell_type": "code",
      "source": [
        "print(\"the %s cost is %d.\"%(item,price))"
      ],
      "metadata": {
        "colab": {
          "base_uri": "https://localhost:8080/"
        },
        "id": "TBVVia2YjADX",
        "outputId": "052aab81-19b6-4531-c4b2-2ee67633ee87"
      },
      "execution_count": null,
      "outputs": [
        {
          "output_type": "stream",
          "name": "stdout",
          "text": [
            "the banana cost is 24.\n"
          ]
        }
      ]
    },
    {
      "cell_type": "code",
      "source": [
        "print(\"the %+10s cost is %+10.2f cents\"%(item,price))"
      ],
      "metadata": {
        "colab": {
          "base_uri": "https://localhost:8080/"
        },
        "id": "lupdzqAljLxo",
        "outputId": "da4bd88c-6e87-403c-9b2f-35e48fd8a96d"
      },
      "execution_count": null,
      "outputs": [
        {
          "output_type": "stream",
          "name": "stdout",
          "text": [
            "the     banana cost is     +24.00 cents\n"
          ]
        }
      ]
    },
    {
      "cell_type": "code",
      "source": [
        "item_dict={\"item\":\"banana\",\"cost\":24}"
      ],
      "metadata": {
        "id": "5uUkGjDajxq4"
      },
      "execution_count": null,
      "outputs": []
    },
    {
      "cell_type": "code",
      "source": [
        "print(\"the %(item)-10s costs %(cost)7.4f\"%(item_dict))"
      ],
      "metadata": {
        "colab": {
          "base_uri": "https://localhost:8080/"
        },
        "id": "03lcrIlmlDsg",
        "outputId": "55f61896-c420-40c6-bedd-ebc4d3a6eba9"
      },
      "execution_count": null,
      "outputs": [
        {
          "output_type": "stream",
          "name": "stdout",
          "text": [
            "the banana     costs 24.0000\n"
          ]
        }
      ]
    },
    {
      "cell_type": "code",
      "source": [
        "print(\"the price of {} is {}.\".format(item,price))"
      ],
      "metadata": {
        "colab": {
          "base_uri": "https://localhost:8080/"
        },
        "id": "gBMkUVN_lOSV",
        "outputId": "80ec6b7b-3338-4cb3-87af-b028b41b7b0f"
      },
      "execution_count": null,
      "outputs": [
        {
          "output_type": "stream",
          "name": "stdout",
          "text": [
            "the price of banana is 24.\n"
          ]
        }
      ]
    },
    {
      "cell_type": "code",
      "source": [
        "for item in [1,2,4,5,6,7]:\n",
        "  print(item)"
      ],
      "metadata": {
        "colab": {
          "base_uri": "https://localhost:8080/"
        },
        "id": "mfmnWEq5uhcB",
        "outputId": "6921370b-c2c2-4d7c-9e4b-345ece99cb21"
      },
      "execution_count": null,
      "outputs": [
        {
          "output_type": "stream",
          "name": "stdout",
          "text": [
            "1\n",
            "2\n",
            "4\n",
            "5\n",
            "6\n",
            "7\n"
          ]
        }
      ]
    },
    {
      "cell_type": "code",
      "source": [
        "for item in range(5):\n",
        "  print(item**3)"
      ],
      "metadata": {
        "colab": {
          "base_uri": "https://localhost:8080/"
        },
        "id": "AuenPtRHvAZi",
        "outputId": "6aabb590-8d8d-48e2-e918-2e01e8cafee8"
      },
      "execution_count": null,
      "outputs": [
        {
          "output_type": "stream",
          "name": "stdout",
          "text": [
            "0\n",
            "1\n",
            "8\n",
            "27\n",
            "64\n"
          ]
        }
      ]
    },
    {
      "cell_type": "markdown",
      "source": [
        "#LinkedList"
      ],
      "metadata": {
        "id": "nLDYxEGZRyvx"
      }
    },
    {
      "cell_type": "code",
      "source": [
        "class Node:\n",
        "  def __init__(self,data):\n",
        "    self.data=data\n",
        "    self.next=None\n",
        "\n",
        "class LinkedList:\n",
        "  def __init__(self):\n",
        "    self.head=None\n",
        "  def printList(self):\n",
        "    temp=self.head\n",
        "    while(temp):\n",
        "      print(temp.data)\n",
        "      temp=temp.next\n",
        "\n",
        "if __name__=\"__main__\":\n",
        "  llist=LinkedList()\n",
        "  llist.head=Node(1)\n",
        "  second=Node(2)\n",
        "  third=Node(3)\n",
        "  llist.head.next=second\n",
        "  second.next=third"
      ],
      "metadata": {
        "colab": {
          "base_uri": "https://localhost:8080/",
          "height": 143
        },
        "id": "w3eiZIPzvMCJ",
        "outputId": "d574fbb4-a793-4da0-ba09-79e3daf4eb0c"
      },
      "execution_count": null,
      "outputs": [
        {
          "output_type": "error",
          "ename": "SyntaxError",
          "evalue": "invalid syntax. Maybe you meant '==' or ':=' instead of '='? (<ipython-input-67-4ba2bb3f393f>, line 15)",
          "traceback": [
            "\u001b[0;36m  File \u001b[0;32m\"<ipython-input-67-4ba2bb3f393f>\"\u001b[0;36m, line \u001b[0;32m15\u001b[0m\n\u001b[0;31m    if __name__=\"__main__\":\u001b[0m\n\u001b[0m       ^\u001b[0m\n\u001b[0;31mSyntaxError\u001b[0m\u001b[0;31m:\u001b[0m invalid syntax. Maybe you meant '==' or ':=' instead of '='?\n"
          ]
        }
      ]
    },
    {
      "cell_type": "code",
      "source": [
        "class Node:\n",
        "  def __init__(self,data):\n",
        "    self.data=data\n",
        "    self.next=None\n",
        "\n",
        "class LinkedList:\n",
        "  def __init__(self):\n",
        "    self.head=None\n",
        "\n",
        "  def printList(self):\n",
        "    temp=self.head\n",
        "    while temp:\n",
        "      print(temp.data)\n",
        "      temp=temp.next\n",
        "  def insertinbeg(self,new_data):\n",
        "    node_new=Node(new_data)\n",
        "    node_new.next=self.head\n",
        "    self.head=node_new\n",
        "\n",
        "  def insertafter(self,prev,new_data):\n",
        "    temp=self.head\n",
        "    while temp:\n",
        "      if temp.data==prev:\n",
        "        new_node=Node(new_data)\n",
        "        new_node.next=temp.next\n",
        "        temp.next=new_node\n",
        "        return\n",
        "      else:\n",
        "        temp=temp.next\n",
        "    print(\"previous node not in linked list\")\n",
        "\n",
        "  def insertinend(self,new_data):\n",
        "    temp=self.head\n",
        "    while temp and  temp.next:\n",
        "      temp=temp.next\n",
        "    new_node=Node(new_data)\n",
        "    temp.next=new_node\n",
        "    new_node.next=None\n",
        "\n",
        "  def deleteatstart(self):\n",
        "    temp=self.head\n",
        "    self.head=self.head.next\n",
        "    del temp\n",
        "  def deletefromend(self):\n",
        "    prev=None\n",
        "    n=self.head\n",
        "    while n.next:\n",
        "      prev=n\n",
        "      n=n.next\n",
        "    prev.next=None\n",
        "    del n\n",
        "  def deletefrommiddle(self):\n",
        "    prev=self.head\n",
        "    n=self.head\n",
        "    while n.next and n.next.next:\n",
        "      prev=prev.next\n",
        "      n=n.next.next\n",
        "\n",
        "    prev.data=prev.next.data\n",
        "    t=prev.next\n",
        "    prev.next=prev.next.next\n",
        "    del t\n",
        "\n",
        "\n",
        "\n"
      ],
      "metadata": {
        "id": "TwnUv0t6xKFR"
      },
      "execution_count": null,
      "outputs": []
    },
    {
      "cell_type": "code",
      "source": [
        "if __name__== '__main__':\n",
        "  lhead=LinkedList()\n",
        "  lhead.head=Node(1)\n",
        "  second=Node(2)\n",
        "  third=Node(3)\n",
        "  lhead.head.next=second\n",
        "  second.next=third"
      ],
      "metadata": {
        "id": "84v0GRKGpmoR"
      },
      "execution_count": null,
      "outputs": []
    },
    {
      "cell_type": "code",
      "source": [
        "lhead.printList()"
      ],
      "metadata": {
        "colab": {
          "base_uri": "https://localhost:8080/"
        },
        "id": "BqpivAqMqXMO",
        "outputId": "507b8dda-eb3e-48af-aafe-9ca26d5c2dd5"
      },
      "execution_count": null,
      "outputs": [
        {
          "output_type": "stream",
          "name": "stdout",
          "text": [
            "1\n",
            "2\n",
            "3\n"
          ]
        }
      ]
    },
    {
      "cell_type": "code",
      "source": [
        "lhead.insertinbeg(6)"
      ],
      "metadata": {
        "id": "kzChO2dUq391"
      },
      "execution_count": null,
      "outputs": []
    },
    {
      "cell_type": "code",
      "source": [
        "lhead.printList()"
      ],
      "metadata": {
        "colab": {
          "base_uri": "https://localhost:8080/"
        },
        "id": "rRCplsbqrmBf",
        "outputId": "a42422a0-79dc-4893-87b8-baaac36bb00f"
      },
      "execution_count": null,
      "outputs": [
        {
          "output_type": "stream",
          "name": "stdout",
          "text": [
            "6\n",
            "1\n",
            "2\n",
            "3\n"
          ]
        }
      ]
    },
    {
      "cell_type": "code",
      "source": [
        "lhead.insertafter(2,8)"
      ],
      "metadata": {
        "id": "HWfstNIMsCWm"
      },
      "execution_count": null,
      "outputs": []
    },
    {
      "cell_type": "code",
      "source": [
        "lhead.printList()"
      ],
      "metadata": {
        "colab": {
          "base_uri": "https://localhost:8080/"
        },
        "id": "Z655l2aAtyJR",
        "outputId": "55273fc7-c78d-4173-9b8d-792ffb6b68df"
      },
      "execution_count": null,
      "outputs": [
        {
          "output_type": "stream",
          "name": "stdout",
          "text": [
            "6\n",
            "1\n",
            "2\n",
            "8\n",
            "3\n"
          ]
        }
      ]
    },
    {
      "cell_type": "code",
      "source": [
        "lhead.insertinend(13)"
      ],
      "metadata": {
        "id": "Hgg7k7bKt03n"
      },
      "execution_count": null,
      "outputs": []
    },
    {
      "cell_type": "code",
      "source": [
        "lhead.printList()"
      ],
      "metadata": {
        "colab": {
          "base_uri": "https://localhost:8080/"
        },
        "id": "hOMJCmkkum_D",
        "outputId": "b52c3317-be7c-4680-a71f-e182443c4084"
      },
      "execution_count": null,
      "outputs": [
        {
          "output_type": "stream",
          "name": "stdout",
          "text": [
            "6\n",
            "1\n",
            "2\n",
            "8\n",
            "3\n",
            "13\n"
          ]
        }
      ]
    },
    {
      "cell_type": "code",
      "source": [
        "lhead.deleteatstart()"
      ],
      "metadata": {
        "id": "fhjTWE4ruqPv"
      },
      "execution_count": null,
      "outputs": []
    },
    {
      "cell_type": "code",
      "source": [
        "lhead.printList()"
      ],
      "metadata": {
        "colab": {
          "base_uri": "https://localhost:8080/"
        },
        "id": "EeSbrmZxFg2W",
        "outputId": "5f04f610-685f-48af-ca58-2bfd70391f62"
      },
      "execution_count": null,
      "outputs": [
        {
          "output_type": "stream",
          "name": "stdout",
          "text": [
            "1\n",
            "2\n",
            "8\n",
            "3\n",
            "13\n"
          ]
        }
      ]
    },
    {
      "cell_type": "code",
      "source": [
        "lhead.deletefromend()"
      ],
      "metadata": {
        "id": "Cd-B9mZNGDDZ"
      },
      "execution_count": null,
      "outputs": []
    },
    {
      "cell_type": "code",
      "source": [
        "lhead.printList()"
      ],
      "metadata": {
        "colab": {
          "base_uri": "https://localhost:8080/"
        },
        "id": "H_cBB-liHsWD",
        "outputId": "ab41ff88-f578-4045-e2a9-f1f0e0f55f20"
      },
      "execution_count": null,
      "outputs": [
        {
          "output_type": "stream",
          "name": "stdout",
          "text": [
            "1\n",
            "2\n",
            "8\n",
            "3\n"
          ]
        }
      ]
    },
    {
      "cell_type": "code",
      "source": [
        "lhead.deletefrommiddle()"
      ],
      "metadata": {
        "id": "7qlI078FHwj8"
      },
      "execution_count": null,
      "outputs": []
    },
    {
      "cell_type": "code",
      "source": [
        "lhead.printList()"
      ],
      "metadata": {
        "colab": {
          "base_uri": "https://localhost:8080/"
        },
        "id": "jDT4ay9JMg57",
        "outputId": "f48baaf9-d70e-49f4-d848-f7ae4cbce881"
      },
      "execution_count": null,
      "outputs": [
        {
          "output_type": "stream",
          "name": "stdout",
          "text": [
            "1\n",
            "3\n"
          ]
        }
      ]
    },
    {
      "cell_type": "markdown",
      "source": [
        "#Stack"
      ],
      "metadata": {
        "id": "v0f-2DyiR4nG"
      }
    },
    {
      "cell_type": "code",
      "source": [
        "class Stack:\n",
        "  top=-1\n",
        "  size=0\n",
        "  def __init__(self):\n",
        "    self.mystack=[]\n",
        "\n",
        "  def push(self,e):\n",
        "    self.mystack.append(e)\n",
        "    self.size+=1\n",
        "    self.top+=1\n",
        "\n",
        "  def pop(self):\n",
        "    if self.size==0:\n",
        "      print(\"stack is empty\")\n",
        "    ans=self.mystack.pop()\n",
        "    self.size-=1\n",
        "    self.top-=1\n",
        "\n",
        "  def isempty(self):\n",
        "    if self.size==0:\n",
        "      print(\"stack is empty\")\n",
        "    else:\n",
        "      print(\"stack is non empty\")\n",
        "  def tope(self):\n",
        "    print(self.mystack[self.top])\n",
        "  def sizee(self):\n",
        "    print(self.size)"
      ],
      "metadata": {
        "id": "IafoIZ_WMkM5"
      },
      "execution_count": null,
      "outputs": []
    },
    {
      "cell_type": "code",
      "source": [
        "stack1=Stack()"
      ],
      "metadata": {
        "id": "CsQE85JmX09Z"
      },
      "execution_count": null,
      "outputs": []
    },
    {
      "cell_type": "code",
      "source": [
        "stack1.size"
      ],
      "metadata": {
        "colab": {
          "base_uri": "https://localhost:8080/"
        },
        "id": "gOdWgf-fX-Cf",
        "outputId": "d59826a0-a6c7-4355-85f6-2db11d256e58"
      },
      "execution_count": null,
      "outputs": [
        {
          "output_type": "execute_result",
          "data": {
            "text/plain": [
              "0"
            ]
          },
          "metadata": {},
          "execution_count": 70
        }
      ]
    },
    {
      "cell_type": "code",
      "source": [
        "stack1.sizee()"
      ],
      "metadata": {
        "colab": {
          "base_uri": "https://localhost:8080/"
        },
        "id": "qd8KSupiYA9c",
        "outputId": "54b7daa5-5211-4e95-b6d9-1bae3566f65f"
      },
      "execution_count": null,
      "outputs": [
        {
          "output_type": "stream",
          "name": "stdout",
          "text": [
            "0\n"
          ]
        }
      ]
    },
    {
      "cell_type": "code",
      "source": [
        "stack1.push(2)"
      ],
      "metadata": {
        "id": "x7jLGPnhYDl_"
      },
      "execution_count": null,
      "outputs": []
    },
    {
      "cell_type": "code",
      "source": [
        "stack1.push(4)"
      ],
      "metadata": {
        "id": "wN633Tf6YG5c"
      },
      "execution_count": null,
      "outputs": []
    },
    {
      "cell_type": "code",
      "source": [
        "stack1.mystack"
      ],
      "metadata": {
        "colab": {
          "base_uri": "https://localhost:8080/"
        },
        "id": "c8UphxDoYQM6",
        "outputId": "1c8589ea-a8a5-4c0c-fb13-12afd1cd5d42"
      },
      "execution_count": null,
      "outputs": [
        {
          "output_type": "execute_result",
          "data": {
            "text/plain": [
              "[2, 2, 4, 2, 4]"
            ]
          },
          "metadata": {},
          "execution_count": 85
        }
      ]
    },
    {
      "cell_type": "code",
      "source": [
        "stack1.sizee()"
      ],
      "metadata": {
        "colab": {
          "base_uri": "https://localhost:8080/"
        },
        "id": "_Zs7e5xrYSc-",
        "outputId": "325f276b-a5c6-4fae-8dcb-88cee65e8a46"
      },
      "execution_count": null,
      "outputs": [
        {
          "output_type": "stream",
          "name": "stdout",
          "text": [
            "5\n"
          ]
        }
      ]
    },
    {
      "cell_type": "code",
      "source": [
        "stack1.tope()"
      ],
      "metadata": {
        "colab": {
          "base_uri": "https://localhost:8080/"
        },
        "id": "YifwPPc3YV3U",
        "outputId": "cb40e967-ed4b-4946-9fad-a051315ff962"
      },
      "execution_count": null,
      "outputs": [
        {
          "output_type": "stream",
          "name": "stdout",
          "text": [
            "4\n"
          ]
        }
      ]
    },
    {
      "cell_type": "code",
      "source": [
        "stack1.isempty()"
      ],
      "metadata": {
        "colab": {
          "base_uri": "https://localhost:8080/"
        },
        "id": "3HLLyC5aYpGu",
        "outputId": "6944f760-e6d4-4480-d1f3-721a9d4bc3b6"
      },
      "execution_count": null,
      "outputs": [
        {
          "output_type": "stream",
          "name": "stdout",
          "text": [
            "stack is non empty\n"
          ]
        }
      ]
    },
    {
      "cell_type": "code",
      "source": [
        "stack1.pop()"
      ],
      "metadata": {
        "id": "jtznwX4wYzKx"
      },
      "execution_count": null,
      "outputs": []
    },
    {
      "cell_type": "code",
      "source": [
        "stack1.sizee()"
      ],
      "metadata": {
        "colab": {
          "base_uri": "https://localhost:8080/"
        },
        "id": "QFfiCZzaY3L5",
        "outputId": "e8f0b74e-4629-4e94-8bff-a19d62fbc3c3"
      },
      "execution_count": null,
      "outputs": [
        {
          "output_type": "stream",
          "name": "stdout",
          "text": [
            "4\n"
          ]
        }
      ]
    },
    {
      "cell_type": "code",
      "source": [
        "stack1.tope()"
      ],
      "metadata": {
        "colab": {
          "base_uri": "https://localhost:8080/"
        },
        "id": "FbrZZBkFY5pQ",
        "outputId": "14badc98-c707-4f11-ccec-78614e2343bc"
      },
      "execution_count": null,
      "outputs": [
        {
          "output_type": "stream",
          "name": "stdout",
          "text": [
            "2\n"
          ]
        }
      ]
    },
    {
      "cell_type": "code",
      "source": [
        "stack1.mystack"
      ],
      "metadata": {
        "colab": {
          "base_uri": "https://localhost:8080/"
        },
        "id": "7Lo6Uw88Y8sb",
        "outputId": "971b6813-9a32-45bf-a2e1-85fadb9403c2"
      },
      "execution_count": null,
      "outputs": [
        {
          "output_type": "execute_result",
          "data": {
            "text/plain": [
              "[2, 2, 4, 2]"
            ]
          },
          "metadata": {},
          "execution_count": 95
        }
      ]
    },
    {
      "cell_type": "markdown",
      "source": [
        "### implementing stack using deque(double ended queue)"
      ],
      "metadata": {
        "id": "kRM7OH4LcCZ3"
      }
    },
    {
      "cell_type": "code",
      "source": [
        "from collections import deque\n",
        "mystack=deque()\n",
        "mystack.append(\"a\")\n",
        "mystack.append(\"b\")\n",
        "mystack.append(\"c\")\n",
        "print(mystack)"
      ],
      "metadata": {
        "colab": {
          "base_uri": "https://localhost:8080/"
        },
        "id": "xeE0dELNZCm3",
        "outputId": "64c6b8d9-fe80-4682-ee2d-a17f52b1b836"
      },
      "execution_count": null,
      "outputs": [
        {
          "output_type": "stream",
          "name": "stdout",
          "text": [
            "deque(['a', 'b', 'c'])\n"
          ]
        }
      ]
    },
    {
      "cell_type": "code",
      "source": [
        "mystack.pop()"
      ],
      "metadata": {
        "colab": {
          "base_uri": "https://localhost:8080/",
          "height": 35
        },
        "id": "p9_skNDHcgst",
        "outputId": "c9fe7a2c-f1fe-48bc-eb6e-ebbb37f19f21"
      },
      "execution_count": null,
      "outputs": [
        {
          "output_type": "execute_result",
          "data": {
            "text/plain": [
              "'b'"
            ],
            "application/vnd.google.colaboratory.intrinsic+json": {
              "type": "string"
            }
          },
          "metadata": {},
          "execution_count": 98
        }
      ]
    },
    {
      "cell_type": "code",
      "source": [
        "mystack.pop()"
      ],
      "metadata": {
        "colab": {
          "base_uri": "https://localhost:8080/",
          "height": 35
        },
        "id": "czTK50k6cjkk",
        "outputId": "daa6d326-9493-4b33-e66e-df77819194c0"
      },
      "execution_count": null,
      "outputs": [
        {
          "output_type": "execute_result",
          "data": {
            "text/plain": [
              "'a'"
            ],
            "application/vnd.google.colaboratory.intrinsic+json": {
              "type": "string"
            }
          },
          "metadata": {},
          "execution_count": 99
        }
      ]
    },
    {
      "cell_type": "code",
      "source": [
        "mystack.pop()"
      ],
      "metadata": {
        "colab": {
          "base_uri": "https://localhost:8080/",
          "height": 177
        },
        "id": "IezZUnohcodp",
        "outputId": "04873414-800b-4d33-e849-7374b7de3aff"
      },
      "execution_count": null,
      "outputs": [
        {
          "output_type": "error",
          "ename": "IndexError",
          "evalue": "pop from an empty deque",
          "traceback": [
            "\u001b[0;31m---------------------------------------------------------------------------\u001b[0m",
            "\u001b[0;31mIndexError\u001b[0m                                Traceback (most recent call last)",
            "\u001b[0;32m<ipython-input-100-d8bc2f593773>\u001b[0m in \u001b[0;36m<cell line: 1>\u001b[0;34m()\u001b[0m\n\u001b[0;32m----> 1\u001b[0;31m \u001b[0mmystack\u001b[0m\u001b[0;34m.\u001b[0m\u001b[0mpop\u001b[0m\u001b[0;34m(\u001b[0m\u001b[0;34m)\u001b[0m\u001b[0;34m\u001b[0m\u001b[0;34m\u001b[0m\u001b[0m\n\u001b[0m",
            "\u001b[0;31mIndexError\u001b[0m: pop from an empty deque"
          ]
        }
      ]
    },
    {
      "cell_type": "markdown",
      "source": [
        "### thread safe stack implementation"
      ],
      "metadata": {
        "id": "ykxPKPLrw4AU"
      }
    },
    {
      "cell_type": "code",
      "source": [
        "from queue import LifoQueue\n",
        "mystack1=LifoQueue()\n",
        "mystack1.put('a')\n",
        "mystack1.put('ashu')\n",
        "mystack1.put(\"c\")\n",
        "mystack1"
      ],
      "metadata": {
        "colab": {
          "base_uri": "https://localhost:8080/"
        },
        "id": "p44s5e_OcpB3",
        "outputId": "a51bab9b-ed4c-4925-c9bd-06fe55770c53"
      },
      "execution_count": null,
      "outputs": [
        {
          "output_type": "execute_result",
          "data": {
            "text/plain": [
              "<queue.LifoQueue at 0x7c8b5dd8ece0>"
            ]
          },
          "metadata": {},
          "execution_count": 101
        }
      ]
    },
    {
      "cell_type": "code",
      "source": [
        "print(mystack1)"
      ],
      "metadata": {
        "colab": {
          "base_uri": "https://localhost:8080/"
        },
        "id": "VCANpwRFwUyE",
        "outputId": "109ea15a-7698-4aa4-a841-12eefcbf38ff"
      },
      "execution_count": null,
      "outputs": [
        {
          "output_type": "stream",
          "name": "stdout",
          "text": [
            "<queue.LifoQueue object at 0x7c8b5dd8ece0>\n"
          ]
        }
      ]
    },
    {
      "cell_type": "code",
      "source": [
        "mystack1.get()"
      ],
      "metadata": {
        "colab": {
          "base_uri": "https://localhost:8080/",
          "height": 35
        },
        "id": "WbO3X56RwYZE",
        "outputId": "75823c98-d44e-4000-938f-afffa34136a0"
      },
      "execution_count": null,
      "outputs": [
        {
          "output_type": "execute_result",
          "data": {
            "text/plain": [
              "'c'"
            ],
            "application/vnd.google.colaboratory.intrinsic+json": {
              "type": "string"
            }
          },
          "metadata": {},
          "execution_count": 105
        }
      ]
    },
    {
      "cell_type": "code",
      "source": [
        "mystack1.full()"
      ],
      "metadata": {
        "colab": {
          "base_uri": "https://localhost:8080/"
        },
        "id": "ZTfMVI5owbfs",
        "outputId": "f2b20ccd-336c-4946-b943-392a4e19bab1"
      },
      "execution_count": null,
      "outputs": [
        {
          "output_type": "execute_result",
          "data": {
            "text/plain": [
              "False"
            ]
          },
          "metadata": {},
          "execution_count": 106
        }
      ]
    },
    {
      "cell_type": "code",
      "source": [
        "mystack1.get()"
      ],
      "metadata": {
        "colab": {
          "base_uri": "https://localhost:8080/",
          "height": 35
        },
        "id": "KiMebNlNwqxE",
        "outputId": "3880392b-edce-4fd9-f2ce-de89b5e3841f"
      },
      "execution_count": null,
      "outputs": [
        {
          "output_type": "execute_result",
          "data": {
            "text/plain": [
              "'ashu'"
            ],
            "application/vnd.google.colaboratory.intrinsic+json": {
              "type": "string"
            }
          },
          "metadata": {},
          "execution_count": 108
        }
      ]
    },
    {
      "cell_type": "code",
      "source": [
        "mystack1.get()"
      ],
      "metadata": {
        "colab": {
          "base_uri": "https://localhost:8080/",
          "height": 35
        },
        "id": "azHYDUMiwuHq",
        "outputId": "6f401afc-b77f-4e00-94ba-5e0ffebe7aa2"
      },
      "execution_count": null,
      "outputs": [
        {
          "output_type": "execute_result",
          "data": {
            "text/plain": [
              "'a'"
            ],
            "application/vnd.google.colaboratory.intrinsic+json": {
              "type": "string"
            }
          },
          "metadata": {},
          "execution_count": 109
        }
      ]
    },
    {
      "cell_type": "code",
      "source": [
        "mystack1.get_nowait()"
      ],
      "metadata": {
        "colab": {
          "base_uri": "https://localhost:8080/",
          "height": 323
        },
        "id": "6M8cMVdewy7M",
        "outputId": "27faa83d-c672-49ec-d9c5-aaa11257c17a"
      },
      "execution_count": null,
      "outputs": [
        {
          "output_type": "error",
          "ename": "Empty",
          "evalue": "",
          "traceback": [
            "\u001b[0;31m---------------------------------------------------------------------------\u001b[0m",
            "\u001b[0;31mEmpty\u001b[0m                                     Traceback (most recent call last)",
            "\u001b[0;32m<ipython-input-111-1e787742b2f7>\u001b[0m in \u001b[0;36m<cell line: 1>\u001b[0;34m()\u001b[0m\n\u001b[0;32m----> 1\u001b[0;31m \u001b[0mmystack1\u001b[0m\u001b[0;34m.\u001b[0m\u001b[0mget_nowait\u001b[0m\u001b[0;34m(\u001b[0m\u001b[0;34m)\u001b[0m\u001b[0;34m\u001b[0m\u001b[0;34m\u001b[0m\u001b[0m\n\u001b[0m",
            "\u001b[0;32m/usr/lib/python3.10/queue.py\u001b[0m in \u001b[0;36mget_nowait\u001b[0;34m(self)\u001b[0m\n\u001b[1;32m    197\u001b[0m         \u001b[0;32mraise\u001b[0m \u001b[0mthe\u001b[0m \u001b[0mEmpty\u001b[0m \u001b[0mexception\u001b[0m\u001b[0;34m.\u001b[0m\u001b[0;34m\u001b[0m\u001b[0;34m\u001b[0m\u001b[0m\n\u001b[1;32m    198\u001b[0m         '''\n\u001b[0;32m--> 199\u001b[0;31m         \u001b[0;32mreturn\u001b[0m \u001b[0mself\u001b[0m\u001b[0;34m.\u001b[0m\u001b[0mget\u001b[0m\u001b[0;34m(\u001b[0m\u001b[0mblock\u001b[0m\u001b[0;34m=\u001b[0m\u001b[0;32mFalse\u001b[0m\u001b[0;34m)\u001b[0m\u001b[0;34m\u001b[0m\u001b[0;34m\u001b[0m\u001b[0m\n\u001b[0m\u001b[1;32m    200\u001b[0m \u001b[0;34m\u001b[0m\u001b[0m\n\u001b[1;32m    201\u001b[0m     \u001b[0;31m# Override these methods to implement other queue organizations\u001b[0m\u001b[0;34m\u001b[0m\u001b[0;34m\u001b[0m\u001b[0m\n",
            "\u001b[0;32m/usr/lib/python3.10/queue.py\u001b[0m in \u001b[0;36mget\u001b[0;34m(self, block, timeout)\u001b[0m\n\u001b[1;32m    166\u001b[0m             \u001b[0;32mif\u001b[0m \u001b[0;32mnot\u001b[0m \u001b[0mblock\u001b[0m\u001b[0;34m:\u001b[0m\u001b[0;34m\u001b[0m\u001b[0;34m\u001b[0m\u001b[0m\n\u001b[1;32m    167\u001b[0m                 \u001b[0;32mif\u001b[0m \u001b[0;32mnot\u001b[0m \u001b[0mself\u001b[0m\u001b[0;34m.\u001b[0m\u001b[0m_qsize\u001b[0m\u001b[0;34m(\u001b[0m\u001b[0;34m)\u001b[0m\u001b[0;34m:\u001b[0m\u001b[0;34m\u001b[0m\u001b[0;34m\u001b[0m\u001b[0m\n\u001b[0;32m--> 168\u001b[0;31m                     \u001b[0;32mraise\u001b[0m \u001b[0mEmpty\u001b[0m\u001b[0;34m\u001b[0m\u001b[0;34m\u001b[0m\u001b[0m\n\u001b[0m\u001b[1;32m    169\u001b[0m             \u001b[0;32melif\u001b[0m \u001b[0mtimeout\u001b[0m \u001b[0;32mis\u001b[0m \u001b[0;32mNone\u001b[0m\u001b[0;34m:\u001b[0m\u001b[0;34m\u001b[0m\u001b[0;34m\u001b[0m\u001b[0m\n\u001b[1;32m    170\u001b[0m                 \u001b[0;32mwhile\u001b[0m \u001b[0;32mnot\u001b[0m \u001b[0mself\u001b[0m\u001b[0;34m.\u001b[0m\u001b[0m_qsize\u001b[0m\u001b[0;34m(\u001b[0m\u001b[0;34m)\u001b[0m\u001b[0;34m:\u001b[0m\u001b[0;34m\u001b[0m\u001b[0;34m\u001b[0m\u001b[0m\n",
            "\u001b[0;31mEmpty\u001b[0m: "
          ]
        }
      ]
    },
    {
      "cell_type": "code",
      "source": [],
      "metadata": {
        "id": "h2CgbPykw1pw"
      },
      "execution_count": null,
      "outputs": []
    }
  ],
  "metadata": {
    "colab": {
      "provenance": [],
      "authorship_tag": "ABX9TyOIR6qRrpW+9gou/1BpfyGt",
      "include_colab_link": true
    },
    "kernelspec": {
      "display_name": "Python 3",
      "name": "python3"
    },
    "language_info": {
      "name": "python"
    }
  },
  "nbformat": 4,
  "nbformat_minor": 0
}